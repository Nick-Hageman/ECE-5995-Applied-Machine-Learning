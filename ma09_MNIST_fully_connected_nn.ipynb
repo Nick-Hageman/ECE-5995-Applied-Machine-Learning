{
  "cells": [
    {
      "cell_type": "markdown",
      "metadata": {
        "id": "yIFMacGGjBo7"
      },
      "source": [
        "# Install or Import Relevant Packages"
      ]
    },
    {
      "cell_type": "code",
      "execution_count": null,
      "metadata": {
        "id": "5fXejq86TuIG"
      },
      "outputs": [],
      "source": [
        "# uncomment if you have don't have torch or torchvision installed in\n",
        "# !pip install torch torchvision\n"
      ]
    },
    {
      "cell_type": "code",
      "execution_count": 1,
      "metadata": {
        "id": "JM4OmDGzi5n-"
      },
      "outputs": [],
      "source": [
        "import matplotlib.pyplot as plt\n",
        "import numpy as np\n",
        "import torch\n",
        "import torchvision\n",
        "import torchvision.transforms as transforms\n",
        "import torch.nn as nn\n",
        "import torch.nn.functional as F\n",
        "import torch.optim as optim\n"
      ]
    },
    {
      "cell_type": "markdown",
      "metadata": {
        "id": "LK8yBW3KMesc"
      },
      "source": [
        "# Select device\n",
        "Select device to train the network. \"cuda:0\" means the first GPU device. If no GPU device is found, the device will default to CPU."
      ]
    },
    {
      "cell_type": "code",
      "execution_count": 2,
      "metadata": {
        "colab": {
          "base_uri": "https://localhost:8080/"
        },
        "id": "t-1m_1UQMyEu",
        "outputId": "386a5cb3-945c-489c-b9b0-e7fc395ecd13"
      },
      "outputs": [
        {
          "output_type": "stream",
          "name": "stdout",
          "text": [
            "cuda:0\n"
          ]
        }
      ],
      "source": [
        "device = torch.device(\"cuda:0\" if torch.cuda.is_available() else \"cpu\")\n",
        "print(device)\n"
      ]
    },
    {
      "cell_type": "markdown",
      "metadata": {
        "id": "RgOsRLFsjLO5"
      },
      "source": [
        "# Load in the MNIST dataset\n",
        "For repeadable experiments the random seed must be set so that the same psuedo-random numbers are used in the wieght initialization and the dataset split. This is done by the call: `torch.manual_seed()` and `np.random.seed()`.\n",
        "\n",
        "The MNIST dataset is loaded using torchvision by the call `torchvision.datasets.MNIST()`. The dataset is split into two disjoint sets for training and validation using the call `torch.utils.data.dataset.random_split()`, another common dataset splitter is scikit learns `sklearn.model_selection.train_test_split()`. In this instance, we are using 30% of the data for validation, 70% for training. The testing data is loaded by setting `torchvision.datasets.MNIST(...train=False...)`.\n",
        "\n",
        "There is also an option to transform the data, this generally improves generalizability of the network. This is done by defining the transforms in the `transforms.Compose()` call."
      ]
    },
    {
      "cell_type": "code",
      "execution_count": 3,
      "metadata": {
        "id": "0F-L9hHkjK45",
        "colab": {
          "base_uri": "https://localhost:8080/"
        },
        "outputId": "80b6433f-ef8b-4e9b-8c2e-20938aee0ce7"
      },
      "outputs": [
        {
          "output_type": "stream",
          "name": "stdout",
          "text": [
            "Downloading http://yann.lecun.com/exdb/mnist/train-images-idx3-ubyte.gz\n",
            "Downloading http://yann.lecun.com/exdb/mnist/train-images-idx3-ubyte.gz to ./data/MNIST/raw/train-images-idx3-ubyte.gz\n"
          ]
        },
        {
          "output_type": "stream",
          "name": "stderr",
          "text": [
            "100%|██████████| 9912422/9912422 [00:00<00:00, 168808640.44it/s]"
          ]
        },
        {
          "output_type": "stream",
          "name": "stdout",
          "text": [
            "Extracting ./data/MNIST/raw/train-images-idx3-ubyte.gz to ./data/MNIST/raw\n"
          ]
        },
        {
          "output_type": "stream",
          "name": "stderr",
          "text": [
            "\n"
          ]
        },
        {
          "output_type": "stream",
          "name": "stdout",
          "text": [
            "\n",
            "Downloading http://yann.lecun.com/exdb/mnist/train-labels-idx1-ubyte.gz\n",
            "Downloading http://yann.lecun.com/exdb/mnist/train-labels-idx1-ubyte.gz to ./data/MNIST/raw/train-labels-idx1-ubyte.gz\n"
          ]
        },
        {
          "output_type": "stream",
          "name": "stderr",
          "text": [
            "100%|██████████| 28881/28881 [00:00<00:00, 39991975.51it/s]\n"
          ]
        },
        {
          "output_type": "stream",
          "name": "stdout",
          "text": [
            "Extracting ./data/MNIST/raw/train-labels-idx1-ubyte.gz to ./data/MNIST/raw\n",
            "\n",
            "Downloading http://yann.lecun.com/exdb/mnist/t10k-images-idx3-ubyte.gz\n",
            "Downloading http://yann.lecun.com/exdb/mnist/t10k-images-idx3-ubyte.gz to ./data/MNIST/raw/t10k-images-idx3-ubyte.gz\n"
          ]
        },
        {
          "output_type": "stream",
          "name": "stderr",
          "text": [
            "100%|██████████| 1648877/1648877 [00:00<00:00, 42975867.00it/s]"
          ]
        },
        {
          "output_type": "stream",
          "name": "stdout",
          "text": [
            "Extracting ./data/MNIST/raw/t10k-images-idx3-ubyte.gz to ./data/MNIST/raw\n"
          ]
        },
        {
          "output_type": "stream",
          "name": "stderr",
          "text": [
            "\n"
          ]
        },
        {
          "output_type": "stream",
          "name": "stdout",
          "text": [
            "\n",
            "Downloading http://yann.lecun.com/exdb/mnist/t10k-labels-idx1-ubyte.gz\n",
            "Downloading http://yann.lecun.com/exdb/mnist/t10k-labels-idx1-ubyte.gz to ./data/MNIST/raw/t10k-labels-idx1-ubyte.gz\n"
          ]
        },
        {
          "output_type": "stream",
          "name": "stderr",
          "text": [
            "100%|██████████| 4542/4542 [00:00<00:00, 2516914.89it/s]\n"
          ]
        },
        {
          "output_type": "stream",
          "name": "stdout",
          "text": [
            "Extracting ./data/MNIST/raw/t10k-labels-idx1-ubyte.gz to ./data/MNIST/raw\n",
            "\n"
          ]
        }
      ],
      "source": [
        "# Set seed for repeatability\n",
        "seed_val = 0\n",
        "torch.manual_seed(seed_val)\n",
        "np.random.seed(seed_val)\n",
        "\n",
        "# Define the validation ratio to be used\n",
        "valid_ratio = 0.3\n",
        "\n",
        "# Transform data to improve generalizability\n",
        "transform = torchvision.transforms.Compose([\n",
        "          torchvision.transforms.ToTensor(),\n",
        "          torchvision.transforms.Normalize((0.1307,), (0.3081,))])\n",
        "\n",
        "# Load in the datasets\n",
        "train_valid_dataset = torchvision.datasets.MNIST(root='./data', train=True, download=True, transform=transform)\n",
        "test_dataset = torchvision.datasets.MNIST(root='./data', train=False, download=True, transform=transform)\n",
        "\n",
        "# Number of images to use for training\n",
        "nb_train = int((1.0 - valid_ratio) * len(train_valid_dataset))\n",
        "# Number of images to use for validation\n",
        "nb_valid =  int(valid_ratio * len(train_valid_dataset))\n",
        "# Randomly split into training and validation data\n",
        "train_dataset, valid_dataset = torch.utils.data.dataset.random_split(train_valid_dataset, [nb_train, nb_valid])\n",
        "\n",
        "# Put into dataloader\n",
        "trainloader = torch.utils.data.DataLoader(train_dataset, batch_size=500, shuffle=True)\n",
        "validloader = torch.utils.data.DataLoader(valid_dataset, batch_size=500, shuffle=True)\n",
        "testloader = torch.utils.data.DataLoader(test_dataset, batch_size=500, shuffle=False)"
      ]
    },
    {
      "cell_type": "markdown",
      "metadata": {
        "id": "FF-0P-dilsVq"
      },
      "source": [
        "# Visualize the MNIST dataset\n",
        "Define a helper function to visualize the MNIST images.\n",
        "\n",
        "The first four images in the train loader are retrieved by the `iter(trainloader)` and `next(data_iter)` calls."
      ]
    },
    {
      "cell_type": "code",
      "execution_count": 5,
      "metadata": {
        "id": "jKxQdM7qlvZW",
        "colab": {
          "base_uri": "https://localhost:8080/",
          "height": 212
        },
        "outputId": "e0d4d1d6-ad81-4b24-e8c9-fb1dba959b13"
      },
      "outputs": [
        {
          "output_type": "display_data",
          "data": {
            "text/plain": [
              "<Figure size 640x480 with 1 Axes>"
            ],
            "image/png": "[encoded data removed]"
          },
          "metadata": {}
        },
        {
          "output_type": "stream",
          "name": "stdout",
          "text": [
            "Ground Truth:     1     7     7     6\n"
          ]
        }
      ],
      "source": [
        "def imshow(img):\n",
        "  img = (img - torch.min(img))/torch.max(img - torch.min(img))\n",
        "  np_img = img.numpy()      # convert to numpy\n",
        "  plt.imshow(np.transpose(np_img, (1,2,0)))\n",
        "  plt.show()                # needed to print the plot\n",
        "\n",
        "# Get random training images\n",
        "data_iter = iter(trainloader)\n",
        "imgs, labels = next(data_iter)\n",
        "\n",
        "# Show images (that are currently tensors)\n",
        "imshow(torchvision.utils.make_grid(imgs[:4,]))\n",
        "print('Ground Truth:', ' '.join('%5s' % labels[j].cpu().detach().numpy() for j in range(4)))"
      ]
    },
    {
      "cell_type": "markdown",
      "metadata": {
        "id": "ljbD9f4mDIAX"
      },
      "source": [
        "# Define Network\n",
        "This will be a fully connected net, there are many different ways to define a network. Some people use Module (base class for NNs), others use the Sequential container. Either way, you need to specify two main things:\n",
        "1. The network structure\n",
        "2. The forward function - this passes the data into the network.\n",
        "\n",
        "The MNIST data is 28x28 pixel images. The fully connected layer is specified as nn.Linear. The network structure typically consists of 3 main components:\n",
        "- Input layer: where the data first goes into the network. The size of this layer must be the same size as the data you are trying to feed into it.\n",
        "- Hidden Layers: there can be however many neurons in these layers as desired, additionally there can be however mady of these hidden layers you want. The input to the hidded layers must be the same size as the output of the previous layer.\n",
        "- Output layer: This will be where the classification occurs, in classification problems, the number of nuerons in the output layer must be equal to the number of classes. Additionally, the input size of this layer must be the same size as the output of the previous layer.\n",
        "\n",
        "The forward function is how the data passes through the network. This is where activation functions go.\n",
        "\n",
        "Link that may be useful in network definition, this describes all the containers, layers, activation functions, and loss functions:\n",
        "https://pytorch.org/docs/stable/nn.html\n"
      ]
    },
    {
      "cell_type": "markdown",
      "metadata": {
        "id": "Fdtj76xt_Vp9"
      },
      "source": [
        "#  <font color='red'> TO DO - YOUR CODE HERE </font>\n",
        "Create a fully connected linear neural network using the following parameters:\n",
        "- Input layer with input size being the number of pixels in the MNIST image\n",
        "- Output layer with output size being the number of unique classes (digits)\n",
        "- Connect layers with ReLU activation function\n",
        "\n",
        "This network has a hidden layer of 64 neurons."
      ]
    },
    {
      "cell_type": "code",
      "execution_count": 9,
      "metadata": {
        "id": "_qRCeSrhHaBM"
      },
      "outputs": [],
      "source": [
        "class Net(nn.Module):\n",
        "    def __init__(self):\n",
        "        super(Net, self).__init__()\n",
        "\n",
        "        self.fc1 = nn.Linear(784, 64)     # Put input size here\n",
        "        self.fc2 = nn.Linear(64, 10)    # Put output size here\n",
        "\n",
        "    def forward(self, x):\n",
        "        # Put relu activation for self.fc1 here\n",
        "        x = self.fc1(x)\n",
        "        x = F.relu(x)\n",
        "        x = self.fc2(x)\n",
        "        return F.log_softmax(x, dim=1)"
      ]
    },
    {
      "cell_type": "markdown",
      "metadata": {
        "id": "rP0MW1LFJsvD"
      },
      "source": [
        "# Compile and print the network structure"
      ]
    },
    {
      "cell_type": "code",
      "execution_count": 10,
      "metadata": {
        "id": "y9833lykJwgk",
        "colab": {
          "base_uri": "https://localhost:8080/"
        },
        "outputId": "92bb69aa-8a45-43bf-95d8-2b16a662332f"
      },
      "outputs": [
        {
          "output_type": "stream",
          "name": "stdout",
          "text": [
            "Number of parameters = 50890\n"
          ]
        },
        {
          "output_type": "execute_result",
          "data": {
            "text/plain": [
              "Net(\n",
              "  (fc1): Linear(in_features=784, out_features=64, bias=True)\n",
              "  (fc2): Linear(in_features=64, out_features=10, bias=True)\n",
              ")"
            ]
          },
          "metadata": {},
          "execution_count": 10
        }
      ],
      "source": [
        "net = Net()\n",
        "# This is especially helpful for debugging purposes if you are getting errors\n",
        "#  in your network definition.\n",
        "print('Number of parameters =', sum([p.numel() for p in net.parameters()]))\n",
        "\n",
        "# Send network to device\n",
        "net.to(device)"
      ]
    },
    {
      "cell_type": "markdown",
      "metadata": {
        "id": "cPocX-64KEKO"
      },
      "source": [
        "# Loss and optimizer definition\n",
        "Define the loss to be minimized during training and the optimizer for the network. For classification, a typical loss function is cross entropy. Typical optimizers are Adam and SGD.\n",
        "\n",
        "Within the optimizer call, you must specifiy what network you are going to be using it on, this is the net.parameters() variable. Additionally, specify an initial learning rate, this is the lr variable.\n",
        "\n",
        "Links for more information:\n",
        "- General information: https://pytorch.org/docs/stable/optim.html\n",
        "- Adam: https://pytorch.org/docs/stable/generated/torch.optim.Adam.html#torch.optim.Adam\n",
        "- SGD: https://pytorch.org/docs/stable/generated/torch.optim.SGD.html#torch.optim.SGD\n"
      ]
    },
    {
      "cell_type": "markdown",
      "metadata": {
        "id": "aiwOdUS2Ay4E"
      },
      "source": [
        "#  <font color='red'> TO DO - YOUR CODE HERE </font>\n",
        "Use cross entropy as your loss function (loss_criterion)\n",
        "and define SGD as your optimization function (optimizer)"
      ]
    },
    {
      "cell_type": "code",
      "execution_count": 38,
      "metadata": {
        "id": "TpAZM4G6KkzH"
      },
      "outputs": [],
      "source": [
        "learning_rate = 0.01\n",
        "\n",
        "# Use cross entropy as your loss function\n",
        "loss_criterion = torch.nn.CrossEntropyLoss()\n",
        "# Use SGD as your optimizer, specify the network parameters and learning rate\n",
        "optimizer = torch.optim.SGD(net.parameters(), lr=learning_rate)"
      ]
    },
    {
      "cell_type": "markdown",
      "metadata": {
        "id": "lvvboZPcyYTp"
      },
      "source": [
        "# Specify path to save the model to\n",
        ""
      ]
    },
    {
      "cell_type": "code",
      "execution_count": 39,
      "metadata": {
        "id": "7Zme3dXAPYV7"
      },
      "outputs": [],
      "source": [
        "PATH = './MNIST_FC_net.pth'\n"
      ]
    },
    {
      "cell_type": "markdown",
      "metadata": {
        "id": "UY38pkWRLu-Q"
      },
      "source": [
        "# Define Training Function\n",
        "\n",
        "#  <font color='red'> TO DO - YOUR CODE HERE </font>\n",
        "Within the training loop, code the four steps to complete the automatic differentiation:\n",
        "- Forward pass\n",
        "- Calculate loss\n",
        "- Send the loss backward thru the network\n",
        "- Use the optimizer to calculate the gradients and update weights"
      ]
    },
    {
      "cell_type": "code",
      "execution_count": 40,
      "metadata": {
        "id": "mlHzw5mhL7Ad"
      },
      "outputs": [],
      "source": [
        "def train_network(model, train_loader, val_loader, optimizer, criterion, max_epochs):\n",
        "    min_valid_loss = np.inf\n",
        "    val_loss = []\n",
        "    val_acc = []\n",
        "    t_loss = []\n",
        "    for epoch in range(max_epochs):\n",
        "        train_loss = 0.0\n",
        "        # Training loop\n",
        "        for inputs, labels in train_loader:\n",
        "            # Transfer Data to device\n",
        "            inputs = inputs.view(-1, 28*28)   # Flatten for linear layer\n",
        "            inputs, labels = inputs.to(device), labels.to(device)\n",
        "            # Clear the gradients\n",
        "            optimizer.zero_grad()\n",
        "\n",
        "            # TO DO: CODE HERE\n",
        "            pred = model.forward(inputs) # Forward Pass\n",
        "            loss = loss_criterion(pred, labels) # Find the Loss\n",
        "            loss.backward() # Send Loss backward\n",
        "            optimizer.step() # Update Weights\n",
        "\n",
        "            # Calculate Loss\n",
        "            train_loss += loss.item()\n",
        "\n",
        "        t_loss.append(train_loss/len(train_loader))     # epoch training loss\n",
        "\n",
        "        valid_loss = 0.0\n",
        "        epoch_total = 0\n",
        "        epoch_correct = 0\n",
        "        # Validation loop - the network weights should not be adjusted\n",
        "        with torch.no_grad():\n",
        "            for inputs, labels in val_loader:\n",
        "                # Transfer Data to device\n",
        "                inputs = inputs.view(-1, 28*28)   # Flatten for linear layer\n",
        "                inputs, labels = inputs.to(device), labels.to(device)\n",
        "\n",
        "                # Forward Pass\n",
        "                outputs = model(inputs)\n",
        "                # Find the Loss\n",
        "                loss = criterion(outputs, labels)\n",
        "                # Calculate Loss\n",
        "                valid_loss += loss.item()\n",
        "                # Calculate Accuracy\n",
        "                _, predicted = torch.max(outputs.data, 1)\n",
        "                epoch_total += labels.size(0)\n",
        "                epoch_correct += (predicted == labels).sum().item()\n",
        "\n",
        "        val_loss.append(valid_loss/len(validloader))\n",
        "        val_acc.append(epoch_correct/epoch_total)\n",
        "        print(f'Epoch {epoch+1}, Training Loss: {train_loss / len(trainloader):.5f}, Validation Loss: {valid_loss / len(validloader):.5f}')\n",
        "\n",
        "        if min_valid_loss > valid_loss:\n",
        "          # print(f'Validation Loss Decreased({min_valid_loss:.6f}--->{valid_loss:.6f}) \\t Saving The Model')\n",
        "            min_valid_loss = valid_loss\n",
        "          # Saving State Dict\n",
        "            torch.save(model.state_dict(), PATH)\n",
        "\n",
        "    return val_loss, val_acc"
      ]
    },
    {
      "cell_type": "markdown",
      "metadata": {
        "id": "DpaCqgj-1VUI"
      },
      "source": [
        "# Define Testing Function"
      ]
    },
    {
      "cell_type": "code",
      "execution_count": 41,
      "metadata": {
        "id": "YHXVplsD1aG3"
      },
      "outputs": [],
      "source": [
        "def test_network(model, test_loader):\n",
        "    total = 0\n",
        "    correct = 0\n",
        "    with torch.no_grad():\n",
        "        for inputs, labels in test_loader:\n",
        "            inputs = inputs.view(-1,28*28)\n",
        "            inputs, labels = inputs.to(device), labels.to(device)\n",
        "            outputs = model(inputs)\n",
        "            _, predicted = torch.max(outputs.data, 1)\n",
        "\n",
        "            total += labels.size(0)\n",
        "            correct += (predicted == labels).sum().item()\n",
        "\n",
        "    accuracy = 100*correct/total\n",
        "    return accuracy\n",
        "\n"
      ]
    },
    {
      "cell_type": "markdown",
      "metadata": {
        "id": "YM1ryulcQFf9"
      },
      "source": [
        "# Perform network training\n",
        "This is where the training loop is called, you must give the function:\n",
        "- nework/model\n",
        "- traning dataloader\n",
        "- validation dataloader\n",
        "- optimizer (defined above)\n",
        "- criterion / loss function (defined above)\n",
        "- maximum number of epochs to train the model for\n"
      ]
    },
    {
      "cell_type": "code",
      "execution_count": 42,
      "metadata": {
        "id": "fIv6R6R5QH4O",
        "colab": {
          "base_uri": "https://localhost:8080/"
        },
        "outputId": "fd16a189-f26e-4c58-c4ae-fc3129e4e12a"
      },
      "outputs": [
        {
          "output_type": "stream",
          "name": "stdout",
          "text": [
            "Epoch 1, Training Loss: 1.64804, Validation Loss: 1.11695\n",
            "Epoch 2, Training Loss: 0.86890, Validation Loss: 0.71992\n",
            "Epoch 3, Training Loss: 0.62233, Validation Loss: 0.56955\n",
            "Epoch 4, Training Loss: 0.51656, Validation Loss: 0.49398\n",
            "Epoch 5, Training Loss: 0.45883, Validation Loss: 0.44923\n",
            "Epoch 6, Training Loss: 0.42253, Validation Loss: 0.41923\n",
            "Epoch 7, Training Loss: 0.39734, Validation Loss: 0.39698\n",
            "Epoch 8, Training Loss: 0.37870, Validation Loss: 0.38049\n",
            "Epoch 9, Training Loss: 0.36403, Validation Loss: 0.36731\n",
            "Epoch 10, Training Loss: 0.35223, Validation Loss: 0.35646\n"
          ]
        }
      ],
      "source": [
        "val_loss, val_acc = train_network(\n",
        "                                    net, trainloader, validloader,\n",
        "                                    optimizer=optimizer, criterion=loss_criterion,\n",
        "                                    max_epochs=10\n",
        "                                )\n",
        "\n"
      ]
    },
    {
      "cell_type": "markdown",
      "metadata": {
        "id": "7DeD6prZ8a1k"
      },
      "source": [
        "# Plot Validation Metrics"
      ]
    },
    {
      "cell_type": "code",
      "execution_count": 43,
      "metadata": {
        "id": "5gbYsf9i8d40",
        "colab": {
          "base_uri": "https://localhost:8080/",
          "height": 472
        },
        "outputId": "4a103a8c-1395-4cad-d4c7-8ef0345f81bd"
      },
      "outputs": [
        {
          "output_type": "display_data",
          "data": {
            "text/plain": [
              "<Figure size 640x480 with 1 Axes>"
            ],
            "image/png": "[encoded data removed]"
          },
          "metadata": {}
        }
      ],
      "source": [
        "fig = plt.figure()\n",
        "plt.plot(val_loss, '-x', label='Validation Loss')\n",
        "plt.plot(val_acc, '-x', label='Validation Accuracy')\n",
        "\n",
        "plt.xlabel('Epoch Number')\n",
        "plt.gca().set_ylim(bottom=0)\n",
        "plt.ylabel('Accuracy')\n",
        "plt.title('Validation Metrics')\n",
        "plt.grid()\n",
        "plt.legend()\n",
        "plt.show()\n",
        "\n"
      ]
    },
    {
      "cell_type": "markdown",
      "metadata": {
        "id": "xtdwOPgWzmZf"
      },
      "source": [
        "# Evaluate the trained network\n",
        "This loads in the saved network parameters, sets the model into evaluation mode so that the gradients will not be calculated, and calls the testing network funciton."
      ]
    },
    {
      "cell_type": "code",
      "execution_count": 44,
      "metadata": {
        "id": "LTEbChdk2ovh",
        "colab": {
          "base_uri": "https://localhost:8080/"
        },
        "outputId": "44030c8b-a6de-449f-c628-25ef101a30d2"
      },
      "outputs": [
        {
          "output_type": "execute_result",
          "data": {
            "text/plain": [
              "<All keys matched successfully>"
            ]
          },
          "metadata": {},
          "execution_count": 44
        }
      ],
      "source": [
        "# Load saved net\n",
        "net.load_state_dict(torch.load(PATH))\n",
        "\n"
      ]
    },
    {
      "cell_type": "code",
      "execution_count": 45,
      "metadata": {
        "id": "FGKAl54q3K6m",
        "colab": {
          "base_uri": "https://localhost:8080/",
          "height": 192
        },
        "outputId": "0d8ce3a1-2667-4f9a-cb4b-c0f8812be6e4"
      },
      "outputs": [
        {
          "output_type": "stream",
          "name": "stdout",
          "text": [
            "Testing Accuracy =  90.78\n"
          ]
        },
        {
          "output_type": "display_data",
          "data": {
            "text/plain": [
              "<Figure size 640x480 with 1 Axes>"
            ],
            "image/png": "[encoded data removed]"
          },
          "metadata": {}
        },
        {
          "output_type": "stream",
          "name": "stdout",
          "text": [
            "Truth:\t     7     2     1     0     4     1     4\n",
            "Predict:     7     2     1     0     4     1     4\n"
          ]
        }
      ],
      "source": [
        "net.eval()    # Put the model into evaluation mode\n",
        "\n",
        "acc = test_network(net, testloader)\n",
        "print('Testing Accuracy = ', acc)\n",
        "\n",
        "# Get random testing images\n",
        "data_iter = iter(testloader)\n",
        "imgs, labels = next(data_iter)\n",
        "labels = labels.cpu().detach().numpy()\n",
        "\n",
        "# Show images (that are currently tensors) and their predictions\n",
        "n_images = 7\n",
        "imshow(torchvision.utils.make_grid(imgs[:n_images,]))\n",
        "print('Truth:\\t', ' '.join('%5s' % labels[j] for j in range(n_images)))\n",
        "\n",
        "with torch.no_grad():\n",
        "    outputs = net(imgs[:n_images,].view(-1, 28*28).to(device))\n",
        "    _, predicted = torch.max(outputs, 1)\n",
        "\n",
        "predicted = predicted.cpu().detach().numpy()\n",
        "print('Predict:', ' '.join('%5s' % predicted[j] for j in range(n_images)))\n",
        "\n"
      ]
    }
  ],
  "metadata": {
    "accelerator": "GPU",
    "colab": {
      "provenance": []
    },
    "kernelspec": {
      "display_name": "Python 3 (ipykernel)",
      "language": "python",
      "name": "python3"
    },
    "language_info": {
      "codemirror_mode": {
        "name": "ipython",
        "version": 3
      },
      "file_extension": ".py",
      "mimetype": "text/x-python",
      "name": "python",
      "nbconvert_exporter": "python",
      "pygments_lexer": "ipython3",
      "version": "3.9.1"
    }
  },
  "nbformat": 4,
  "nbformat_minor": 0
}