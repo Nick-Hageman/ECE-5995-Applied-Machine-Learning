{
  "cells": [
    {
      "cell_type": "markdown",
      "metadata": {
        "id": "KOFMOovtMPvi"
      },
      "source": [
        "# Convolutional Neural Network (CNN) Classification\n",
        "Convolutional Neural Network is a class of deep neural netowrks that are commonly applied to analyzing visual imagery. In this notebook, we are going to do a classification over the CIFAR-10 dataset using the CNN model. To do the classification, let's take one step at a time!\n",
        "\n",
        "1. We are going to first construct the CNN model by filling out the correct dimensions of the CNN layers. The baseline CNN, whose architecture is provided below, should have around 50-60% accuracy on the test set.\n",
        "\n",
        "2. Now that we have our baseline model, let's try to improve our model.\n",
        "\n",
        "    a. Optimizer selection:\n",
        "\n",
        "      Compare the following algorithms, by tuning the learning rate and parameters to obtain a better accuracy on test data.\n",
        "      \n",
        "        1. SGD without momentum\n",
        "        2. SGD with momentum\n",
        "        3. ADAM optimizer with default and tuned parameters\n",
        "      \n",
        "      b. Avoid Overfitting:\n",
        "      Compare the weight decay and early stopping with appropriate parameters to improve the performance.\n",
        "\n",
        "\n",
        "3. Data augmentation: Add rotation and translation to augment the dataset, thus improving the model's performance on accuracy.\n",
        "\n",
        "4. Experiment with the network architecture, including the  paramaters of the convolutional layers, the pooling layers, the activational layers and the fully connected layers to see the performance change on the test set's accuracy.\n",
        "            "
      ]
    },
    {
      "cell_type": "markdown",
      "metadata": {
        "id": "yp5Nn7lzV3J6"
      },
      "source": [
        "## Load pytorch library"
      ]
    },
    {
      "cell_type": "code",
      "execution_count": 1,
      "metadata": {
        "id": "sZzTc_qcr0ge"
      },
      "outputs": [],
      "source": [
        "import torch\n",
        "import torchvision\n",
        "import torchvision.transforms as transforms\n",
        "valid_ratio = 0.3"
      ]
    },
    {
      "cell_type": "markdown",
      "metadata": {
        "id": "m77sHXmJWHfx"
      },
      "source": [
        "## Load the CIFAR-10 training and validation sets, and possible transforms to be applied. <font color=red>Augmentation can be done within the transform (TODO #3)</font>\n",
        "\n",
        "The CIFAR10 dataset has 60000 32x32 colour images in 10 classes, with 6000 images per class. See\n",
        "https://www.cs.toronto.edu/~kriz/cifar.html for details.\n",
        "\n",
        "Data augmentation is a good way to enlarge the dataset so that the network trained becomes more robust and achieves better testing accuracy. Data augmentation, in short, is a way that takes a transform, such as rotation, flipping, scale, etc. to the data point to add more artificial created data points to the training set.\n",
        "\n",
        "In this section, try to add some data augmentation on the original dataset. You can start by uncomment the augmentation below.\n",
        "\n",
        "Helpful link for augmentation methods by PyTorch:\n",
        "\n",
        "https://pytorch.org/docs/stable/torchvision/transforms.html\n",
        "\n",
        "Helpful readings on augmentation: (optional)\n",
        "\n",
        "1. https://nanonets.com/blog/data-augmentation-how-to-use-deep-learning-when-you-have-limited-data-part-2/\n",
        "\n",
        "2. https://www.aiworkbox.com/lessons/augment-the-cifar10-dataset-using-the-randomhorizontalflip-and-randomcrop-transforms\n",
        "\n"
      ]
    },
    {
      "cell_type": "code",
      "execution_count": 2,
      "metadata": {
        "id": "TvFtjhZpX2jV"
      },
      "outputs": [],
      "source": [
        "from torch.utils.data import Dataset, DataLoader\n",
        "\n",
        "class PreLoadedDataset(Dataset):\n",
        "    def __init__(self,dataset,device='cuda'):\n",
        "        self.shared_tensor = []\n",
        "        self.shared_label = []\n",
        "        for i in range(len(dataset)):\n",
        "          img,label = dataset[i]\n",
        "          self.shared_tensor.append(img.to(device))\n",
        "          self.shared_label.append(torch.tensor(label).to(device))\n",
        "\n",
        "    def __getitem__(self, index):\n",
        "        return self.shared_tensor[index], self.shared_label[index]\n",
        "\n",
        "    def __len__(self):\n",
        "        return len(self.shared_tensor)"
      ]
    },
    {
      "cell_type": "code",
      "execution_count": 3,
      "metadata": {
        "colab": {
          "base_uri": "https://localhost:8080/"
        },
        "id": "JNDByYIhr4TU",
        "outputId": "2aca5565-744b-4182-b2f2-123c9599adda"
      },
      "outputs": [
        {
          "output_type": "stream",
          "name": "stdout",
          "text": [
            "Downloading https://www.cs.toronto.edu/~kriz/cifar-10-python.tar.gz to ./data/cifar-10-python.tar.gz\n"
          ]
        },
        {
          "output_type": "stream",
          "name": "stderr",
          "text": [
            "100%|██████████| 170498071/170498071 [00:13<00:00, 12505619.43it/s]\n"
          ]
        },
        {
          "output_type": "stream",
          "name": "stdout",
          "text": [
            "Extracting ./data/cifar-10-python.tar.gz to ./data\n"
          ]
        }
      ],
      "source": [
        "transform = transforms.Compose(\n",
        "    [\n",
        "     # define your data augmentation HERE. You can start by uncomment the following line\n",
        "     # transforms.RandomRotation(degrees=30),\n",
        "     transforms.ToTensor(),\n",
        "     transforms.Normalize((0.5, 0.5, 0.5), (0.5, 0.5, 0.5))])\n",
        "\n",
        "# No need to change anything below\n",
        "train_valid_dataset = torchvision.datasets.CIFAR10(root='./data', train=True,\n",
        "                                        download=True, transform=transform)\n",
        "nb_train = int((1.0 - valid_ratio) * len(train_valid_dataset))\n",
        "nb_valid =  int(valid_ratio * len(train_valid_dataset))\n",
        "train_dataset_tv, valid_dataset_tv = torch.utils.data.dataset.random_split(train_valid_dataset, [nb_train, nb_valid])\n",
        "train_dataset = PreLoadedDataset(train_dataset_tv)\n",
        "valid_dataset = PreLoadedDataset(valid_dataset_tv)\n",
        "\n",
        "trainloader = torch.utils.data.DataLoader(train_dataset, batch_size=500,\n",
        "                                          shuffle=True)\n",
        "validloader = torch.utils.data.DataLoader(valid_dataset, batch_size=500,\n",
        "                                          shuffle=True)\n",
        "\n",
        "classes = ('plane', 'car', 'bird', 'cat',\n",
        "           'deer', 'dog', 'frog', 'horse', 'ship', 'truck')\n"
      ]
    },
    {
      "cell_type": "markdown",
      "metadata": {
        "id": "bEynLBaxWrnQ"
      },
      "source": [
        "## Visualize the CIFAR-10 dataset."
      ]
    },
    {
      "cell_type": "code",
      "execution_count": 4,
      "metadata": {
        "colab": {
          "base_uri": "https://localhost:8080/",
          "height": 157
        },
        "id": "EO8X36thsFKF",
        "outputId": "14ea2016-d6c5-420f-abe5-18ff345020a3"
      },
      "outputs": [
        {
          "output_type": "display_data",
          "data": {
            "text/plain": [
              "<Figure size 640x480 with 1 Axes>"
            ],
            "image/png": "[encoded data removed]"
          },
          "metadata": {}
        },
        {
          "output_type": "stream",
          "name": "stdout",
          "text": [
            "horse  ship  bird  ship  bird  deer   dog\n"
          ]
        }
      ],
      "source": [
        "import matplotlib.pyplot as plt\n",
        "import numpy as np\n",
        "\n",
        "# functions to show an image\n",
        "\n",
        "\n",
        "def imshow(img):\n",
        "    img = img / 2 + 0.5     # unnormalize\n",
        "    npimg = img.cpu().numpy()\n",
        "    plt.imshow(np.transpose(npimg, (1, 2, 0)))\n",
        "    plt.show()\n",
        "\n",
        "\n",
        "# get some random training images\n",
        "dataiter = iter(trainloader)\n",
        "images, labels = next(dataiter)\n",
        "\n",
        "nclassesToVisualize = 7\n",
        "# show images\n",
        "imshow(torchvision.utils.make_grid(images[:nclassesToVisualize,]))\n",
        "# print labels\n",
        "print(' '.join('%5s' % classes[labels[j]] for j in range(nclassesToVisualize)))"
      ]
    },
    {
      "cell_type": "markdown",
      "metadata": {
        "id": "9CUKf7kcW3Rh"
      },
      "source": [
        "## Modify the code below for the baseline CNN <font color=red>(TODO: #1) and modified CNN (TODO: #4)</font>\n",
        "We are going to first construct the CNN model by filling out the correct dimensions of the CNN layers. Please choose the appropriate stride and padding to get the image sizes at the respective layers correct. The <font color=red>baseline CNN (TODO: #1)</font> will have the following layers:\n",
        "\n",
        "*   **conv1:** 3x3 convolution to obtain 16 features of size 32x32\n",
        "*   **RELU** activation\n",
        "*   **pool:** MaxPool2d layer with a kernel size=2, stride=2 and padding=0 to obtain 16 features of size 16x16\n",
        "*   **conv2:** 3x3 convolution to obtain 32 features of size 16x16\n",
        "*   **RELU** activation\n",
        "*   **pool: MaxPool2d** to obtain 32 features of size 8x8\n",
        "*   **conv3:** 3x3 convolution to obtain 32 features of size 6x6\n",
        "*   **RELU** activation\n",
        "*   **linear1:** Linear layer with 512 features in the output. Choose the input feature size carefully. You should reshape the\n",
        "*   **RELU** activation\n",
        "*   **linear2:** Linear layer with 128 features in the output.\n",
        "*   **RELU** activation\n",
        "*  **linear 3:** Linear layer with appropriate # features in the output. Choose the input feature size carefully.\n",
        "\n",
        "\n",
        "\n",
        "Our baseline CNN model has around 60% accuracy on the test set. Please copy the code below and create CNN networks with different names when you do <font color=red> To do #4</font>\n",
        "\n"
      ]
    },
    {
      "cell_type": "code",
      "execution_count": 5,
      "metadata": {
        "id": "LOsjlBUKsbTF"
      },
      "outputs": [],
      "source": [
        "import torch.nn as nn\n",
        "import torch.nn.functional as F\n",
        "\n",
        "# define your CNN here, e.g. activation function: F.sigmoid or F.relu\n",
        "\n",
        "class Net(nn.Module):\n",
        "    def __init__(self):\n",
        "        super(Net, self).__init__()\n",
        "        # YOUR CODE HERE\n",
        "        self.pool = nn.MaxPool2d(kernel_size=2, stride=2, padding=0)\n",
        "        self.conv1 = nn.Conv2d(3, 16, kernel_size=3, stride=1, padding=1)\n",
        "        self.conv2 = nn.Conv2d(16, 32, kernel_size=3, stride=1, padding=1)\n",
        "        self.conv3 = nn.Conv2d(32, 32, kernel_size=3, stride=1, padding=1)\n",
        "        self.fc1 = nn.Linear(32*4*4, 512)\n",
        "        self.fc2 = nn.Linear(512, 128)\n",
        "        self.fc3 = nn.Linear(128, 10)\n",
        "\n",
        "        #self.out = ?\n",
        "\n",
        "    def forward(self, x):\n",
        "        # YOUR CODE HERE\n",
        "        x = F.relu(self.conv1(x))\n",
        "        x = self.pool(x)\n",
        "        x = F.relu(self.conv2(x))\n",
        "        x = self.pool(x)\n",
        "        x = F.relu(self.conv3(x))\n",
        "        x = self.pool(x)\n",
        "        x = x.view(-1, 32*4*4) # reshape to a vector\n",
        "        x = F.relu(self.fc1(x))\n",
        "        x = F.relu(self.fc2(x))\n",
        "        x = self.fc3(x)\n",
        "        return x\n",
        "\n"
      ]
    },
    {
      "cell_type": "markdown",
      "metadata": {
        "id": "_FC-AEZXXJE4"
      },
      "source": [
        "## Instantiate the CNN and print out the number of parameters"
      ]
    },
    {
      "cell_type": "code",
      "execution_count": 6,
      "metadata": {
        "colab": {
          "base_uri": "https://localhost:8080/"
        },
        "id": "ghak7OKCXXpK",
        "outputId": "37d3dc6f-7533-4e3e-cc9b-c691d6db0cae"
      },
      "outputs": [
        {
          "output_type": "stream",
          "name": "stdout",
          "text": [
            "Net(\n",
            "  (pool): MaxPool2d(kernel_size=2, stride=2, padding=0, dilation=1, ceil_mode=False)\n",
            "  (conv1): Conv2d(3, 16, kernel_size=(3, 3), stride=(1, 1), padding=(1, 1))\n",
            "  (conv2): Conv2d(16, 32, kernel_size=(3, 3), stride=(1, 1), padding=(1, 1))\n",
            "  (conv3): Conv2d(32, 32, kernel_size=(3, 3), stride=(1, 1), padding=(1, 1))\n",
            "  (fc1): Linear(in_features=512, out_features=512, bias=True)\n",
            "  (fc2): Linear(in_features=512, out_features=128, bias=True)\n",
            "  (fc3): Linear(in_features=128, out_features=10, bias=True)\n",
            ")\n",
            "Total number of trainable CNN parameters= 343946\n"
          ]
        }
      ],
      "source": [
        "device = torch.device(\"cuda:0\" if torch.cuda.is_available() else \"cpu\")\n",
        "net = Net().to(device)\n",
        "print(net)\n",
        "print(\"Total number of trainable CNN parameters=\",sum([p.numel() for p in net.parameters()]))"
      ]
    },
    {
      "cell_type": "markdown",
      "metadata": {
        "id": "slDGVTtkXd-Z"
      },
      "source": [
        "## Define the loss function and the optimizer. <font color=red>(TODO: #2)</font>\n",
        "Adam and SGD are two optimizers that are majorly used in deep learning netowrk design. Adam has a good performance in terms of good convergence speed and good accuracy.\n",
        "However, Adam in some cases has a worse validation loss than SGD, in other words, Adam though converges fast, may not converge to the optimal minimum as good as SGD does.\n",
        "\n",
        "Your task in this section is to try the Adam and SGD optimizers and find a proper LR so that you have a better performance on accuracy.\n",
        "\n",
        "Helpful link for determining a good learning rate for Adam and SGD optimizer:\n",
        "\n",
        "https://medium.com/octavian-ai/which-optimizer-and-learning-rate-should-i-use-for-deep-learning-5acb418f9b2\n",
        "\n",
        "Helpful readings on Adam and SGD: (optional)\n",
        "\n",
        "1. https://towardsdatascience.com/adam-latest-trends-in-deep-learning-optimization-6be9a291375c\n",
        "    \n",
        "2. https://shaoanlu.wordpress.com/2017/05/29/sgd-all-which-one-is-the-best-optimizer-dogs-vs-cats-toy-experiment/\n",
        "\n"
      ]
    },
    {
      "cell_type": "code",
      "execution_count": 15,
      "metadata": {
        "id": "ml4xvTi7sgCE"
      },
      "outputs": [],
      "source": [
        "import torch.optim as optim\n",
        "import torch.nn as nn\n",
        "import torch.nn.functional as F\n",
        "\n",
        "criterion = nn.CrossEntropyLoss()\n",
        "\n",
        "# TO DO: Define your optimizer: Start with SGD and try more sophisticatd optimizers in Todo #2\n",
        "#optimizer = optim.SGD(net.parameters(),lr = 1,momentum=0.9)\n",
        "optimizer = optim.Adam(net.parameters(),lr = 1e-2)"
      ]
    },
    {
      "cell_type": "markdown",
      "metadata": {
        "id": "La3a6S81YSWs"
      },
      "source": [
        "## Define the path to store the trained CNN parameters (optional)"
      ]
    },
    {
      "cell_type": "code",
      "execution_count": 16,
      "metadata": {
        "id": "zwLWBzgOuYZW"
      },
      "outputs": [],
      "source": [
        "PATH = 'mnist_net.pth'\n"
      ]
    },
    {
      "cell_type": "markdown",
      "metadata": {
        "id": "8dLwz9XsYkNJ"
      },
      "source": [
        "## Train the CNN and store the best model based on the validation loss <font color=red>(TODO: #2.b)<font>\n",
        "Training the neural network model too many epochs end up with high variance between training set and testing set, which also called an overfitting problem. Different strategies like L1 and L2 regularization, dropout and early stopping can be used to prevent the model from overfitting.\n",
        "\n",
        "The idea behind early stopping is that when the generalization error increases, stop training the model to prevent overfitting problem. Note that early stopping strategy in some degree is the same as L2 regularization so it's an alternative to L2 regularization. More will be discussed in the lecture.\n",
        "\n",
        "Your task in this section is to come up with a python implementation of an early stopping strategy to avoid overfitting.\n",
        "\n",
        "Helpful readings for the early stopping strategy and other techniques to prevent overfitting problems.\n",
        "\n",
        "1. https://machinelearningmastery.com/early-stopping-to-avoid-overtraining-neural-network-models/\n",
        "\n",
        "2. https://towardsdatascience.com/preventing-deep-neural-network-from-overfitting-953458db800a\n",
        "\n"
      ]
    },
    {
      "cell_type": "code",
      "execution_count": 23,
      "metadata": {
        "colab": {
          "base_uri": "https://localhost:8080/"
        },
        "id": "csCvcF7Ss1Ud",
        "outputId": "76f03f41-5fff-477f-efa8-67079e68c0f0"
      },
      "outputs": [
        {
          "output_type": "stream",
          "name": "stdout",
          "text": [
            "Epoch:  0  train loss:  1.002\n",
            "Epoch:  0  validation loss:  1.278\n",
            "Epoch:  1  train loss:  0.986\n",
            "Epoch:  1  validation loss:  1.302\n",
            "Epoch:  2  train loss:  0.957\n",
            "Epoch:  2  validation loss:  1.331\n",
            "Epoch:  3  train loss:  0.947\n",
            "Epoch:  3  validation loss:  1.359\n",
            "Epoch:  4  train loss:  0.950\n",
            "Epoch:  4  validation loss:  1.345\n",
            "Epoch:  5  train loss:  0.927\n",
            "Epoch:  5  validation loss:  1.332\n",
            "Epoch:  6  train loss:  0.925\n",
            "Epoch:  6  validation loss:  1.336\n",
            "Epoch:  7  train loss:  0.907\n",
            "Epoch:  7  validation loss:  1.374\n",
            "Epoch:  8  train loss:  0.889\n",
            "Epoch:  8  validation loss:  1.385\n",
            "Epoch:  9  train loss:  0.897\n",
            "Epoch:  9  validation loss:  1.370\n",
            "Epoch:  10  train loss:  0.862\n",
            "Epoch:  10  validation loss:  1.415\n",
            "Epoch:  11  train loss:  0.882\n",
            "Epoch:  11  validation loss:  1.392\n",
            "Stopping Early\n",
            "Finished Training in 0 mins\n"
          ]
        }
      ],
      "source": [
        "import time\n",
        "\n",
        "# define an empty list called validation_loss that might be helpful later in the early stopping implementation\n",
        "validation_loss = []\n",
        "\n",
        "start_time = time.time()\n",
        "best_loss = float('inf')\n",
        "for epoch in range(50):  # loop over the dataset multiple times\n",
        "\n",
        "    running_loss = 0.0\n",
        "    for i, data in enumerate(trainloader, 0):\n",
        "      # Training data\n",
        "      #--------------\n",
        "        # get the inputs; data is a list of [inputs, labels]\n",
        "        inputs, labels = data[0].to(device), data[1].to(device)\n",
        "\n",
        "        # zero the parameter gradients\n",
        "        optimizer.zero_grad()\n",
        "\n",
        "        # forward + backward + update parameters\n",
        "        outputs = net(inputs)\n",
        "        loss = criterion(outputs, labels)\n",
        "        loss.backward()\n",
        "        optimizer.step()\n",
        "\n",
        "        # print statistics\n",
        "        running_loss += loss.item()\n",
        "    epoch_loss = running_loss / (i+1)\n",
        "    print(\"Epoch: \", epoch, \" train loss: \", '%.3f' % epoch_loss)\n",
        "\n",
        "    # Validation\n",
        "    #------------\n",
        "    with torch.no_grad():\n",
        "      running_loss = 0.0\n",
        "      for i, data in enumerate(validloader, 0):\n",
        "          # get the inputs; data is a list of [inputs, labels]\n",
        "          inputs, labels = data[0].to(device), data[1].to(device)\n",
        "\n",
        "          # forward\n",
        "          outputs = net(inputs)\n",
        "          loss = criterion(outputs, labels)\n",
        "\n",
        "          # print statistics\n",
        "          running_loss += loss.item()\n",
        "      epoch_loss = running_loss / (i+1)\n",
        "\n",
        "      # add epoch_loss at each iteration to the validation_loss list which is later used in the early stopping implementation\n",
        "      validation_loss.append(epoch_loss)\n",
        "\n",
        "      print(\"Epoch: \", epoch, \" validation loss: \", '%.3f' % epoch_loss)\n",
        "      # save the best model based on validation loss\n",
        "      if epoch_loss < best_loss:\n",
        "        # torch.save(net.state_dict(), PATH)\n",
        "        best_loss = epoch_loss\n",
        "\n",
        "      # Early stopping implementation goes below: (TODO)\n",
        "      running_avg_loss = np.mean(validation_loss[-10:])\n",
        "      if running_avg_loss <= epoch_loss and epoch > 10: #forcing training to occur for atleast 10 epochs\n",
        "        print(\"Stopping Early\")\n",
        "        break\n",
        "\n",
        "time_elap = (time.time() - start_time) // 60\n",
        "print('Finished Training in %d mins' % time_elap)"
      ]
    },
    {
      "cell_type": "markdown",
      "metadata": {
        "id": "yfvPe-jSYsrR"
      },
      "source": [
        "## Define the test dataset"
      ]
    },
    {
      "cell_type": "code",
      "execution_count": 24,
      "metadata": {
        "colab": {
          "base_uri": "https://localhost:8080/"
        },
        "id": "UQSOIHv7yf-3",
        "outputId": "fd990f6e-c698-4715-8f8b-31eeaff58aad"
      },
      "outputs": [
        {
          "output_type": "stream",
          "name": "stdout",
          "text": [
            "Files already downloaded and verified\n"
          ]
        }
      ],
      "source": [
        "transform = transforms.Compose(\n",
        "     [transforms.ToTensor(),\n",
        "     transforms.Normalize((0.5, 0.5, 0.5), (0.5, 0.5, 0.5))])\n",
        "testset = torchvision.datasets.CIFAR10(root='./data', train=False,\n",
        "                                       download=True, transform=transform)\n",
        "testloader = torch.utils.data.DataLoader(testset, batch_size=4,\n",
        "                                         shuffle=False)"
      ]
    },
    {
      "cell_type": "markdown",
      "metadata": {
        "id": "4nqrJcR2Yzs5"
      },
      "source": [
        "## Visualize the test dataset"
      ]
    },
    {
      "cell_type": "code",
      "execution_count": 25,
      "metadata": {
        "colab": {
          "base_uri": "https://localhost:8080/",
          "height": 211
        },
        "id": "TqvrOr83y2B1",
        "outputId": "aca4abfb-999e-4c91-d554-9d58b3b464be"
      },
      "outputs": [
        {
          "output_type": "display_data",
          "data": {
            "text/plain": [
              "<Figure size 640x480 with 1 Axes>"
            ],
            "image/png": "[encoded data removed]"
          },
          "metadata": {}
        },
        {
          "output_type": "stream",
          "name": "stdout",
          "text": [
            "GroundTruth:    cat  ship  ship plane\n"
          ]
        }
      ],
      "source": [
        "import matplotlib.pyplot as plt\n",
        "import numpy as np\n",
        "\n",
        "def imshow(img):\n",
        "    img = img / 2 + 0.5     # unnormalize\n",
        "    npimg = img.numpy()\n",
        "    plt.imshow(np.transpose(npimg, (1, 2, 0)))\n",
        "    plt.show()\n",
        "\n",
        "dataiter = iter(testloader)\n",
        "images, labels = next(dataiter)\n",
        "\n",
        "# print images\n",
        "imshow(torchvision.utils.make_grid(images))\n",
        "print('GroundTruth: ', ' '.join('%5s' % classes[labels[j]] for j in range(4)))"
      ]
    },
    {
      "cell_type": "markdown",
      "metadata": {
        "id": "l8DMyi8-Y4nB"
      },
      "source": [
        "## Load the learned CNN parameters. This is required when you have trained the CNN and do no want to train it again by loading the learned parameters. (optional)"
      ]
    },
    {
      "cell_type": "code",
      "execution_count": 20,
      "metadata": {
        "id": "QTELpZUNy5yV"
      },
      "outputs": [],
      "source": [
        "# net.load_state_dict(torch.load(PATH))"
      ]
    },
    {
      "cell_type": "markdown",
      "metadata": {
        "id": "fL7bMIiyZeFr"
      },
      "source": [
        "## Get the predictions for the first 4 images in the test dataset"
      ]
    },
    {
      "cell_type": "code",
      "execution_count": 26,
      "metadata": {
        "colab": {
          "base_uri": "https://localhost:8080/"
        },
        "id": "lQeFNxLTzBxN",
        "outputId": "4cf260e9-ef76-4747-ec44-39ac6706080f"
      },
      "outputs": [
        {
          "output_type": "stream",
          "name": "stdout",
          "text": [
            "Predicted:    cat   car  ship plane\n"
          ]
        }
      ],
      "source": [
        "with torch.no_grad():\n",
        "  outputs = net(images.to(device))\n",
        "  _, predicted = torch.max(outputs, 1)\n",
        "\n",
        "print('Predicted: ', ' '.join('%5s' % classes[predicted[j]]\n",
        "                              for j in range(4)))"
      ]
    },
    {
      "cell_type": "markdown",
      "metadata": {
        "id": "3r7FPw9MZoMB"
      },
      "source": [
        "## Infer on the whole test dataset"
      ]
    },
    {
      "cell_type": "code",
      "execution_count": 27,
      "metadata": {
        "colab": {
          "base_uri": "https://localhost:8080/"
        },
        "id": "F246Hc0QzLLV",
        "outputId": "94496ef2-fc15-4912-cbeb-13fa62faf8b1"
      },
      "outputs": [
        {
          "output_type": "stream",
          "name": "stdout",
          "text": [
            "Accuracy of the network on the 10000 test images: 54.620 %\n"
          ]
        }
      ],
      "source": [
        "testloader = torch.utils.data.DataLoader(testset, batch_size=200,\n",
        "                                         shuffle=False)\n",
        "correct = 0\n",
        "total = 0\n",
        "with torch.no_grad():\n",
        "    for data in testloader:\n",
        "        images, labels = data\n",
        "        outputs = net(images.to(device))\n",
        "        _, predicted = torch.max(outputs.data, 1)\n",
        "        total += labels.size(0)\n",
        "        correct += (predicted == labels.to(device)).sum().item()\n",
        "\n",
        "print('Accuracy of the network on the 10000 test images: %.3F %%' % (\n",
        "    100 * correct / total))"
      ]
    }
  ],
  "metadata": {
    "accelerator": "GPU",
    "colab": {
      "provenance": []
    },
    "kernelspec": {
      "display_name": "Python 3 (ipykernel)",
      "language": "python",
      "name": "python3"
    },
    "language_info": {
      "codemirror_mode": {
        "name": "ipython",
        "version": 3
      },
      "file_extension": ".py",
      "mimetype": "text/x-python",
      "name": "python",
      "nbconvert_exporter": "python",
      "pygments_lexer": "ipython3",
      "version": "3.11.4"
    }
  },
  "nbformat": 4,
  "nbformat_minor": 0
}