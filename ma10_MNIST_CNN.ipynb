{
  "cells": [
    {
      "cell_type": "markdown",
      "metadata": {
        "id": "yIFMacGGjBo7"
      },
      "source": [
        "# Import Relevant Packages"
      ]
    },
    {
      "cell_type": "code",
      "execution_count": 1,
      "metadata": {
        "id": "JM4OmDGzi5n-"
      },
      "outputs": [],
      "source": [
        "import matplotlib.pyplot as plt\n",
        "import numpy as np\n",
        "import torch\n",
        "import torchvision\n",
        "import torchvision.transforms as transforms\n",
        "import torch.nn as nn\n",
        "import torch.nn.functional as F\n",
        "import torch.optim as optim\n",
        "\n"
      ]
    },
    {
      "cell_type": "markdown",
      "metadata": {
        "id": "LK8yBW3KMesc"
      },
      "source": [
        "# Select device\n",
        "Select device to train the network. \"cuda:0\" means the first GPU device. If no GPU device is found, the device will default to CPU."
      ]
    },
    {
      "cell_type": "code",
      "execution_count": 2,
      "metadata": {
        "id": "t-1m_1UQMyEu",
        "colab": {
          "base_uri": "https://localhost:8080/"
        },
        "outputId": "db982a2d-4e71-4a9f-b5aa-518294612393"
      },
      "outputs": [
        {
          "output_type": "stream",
          "name": "stdout",
          "text": [
            "cuda:0\n"
          ]
        }
      ],
      "source": [
        "device = torch.device(\"cuda:0\" if torch.cuda.is_available() else \"cpu\")\n",
        "print(device)\n"
      ]
    },
    {
      "cell_type": "markdown",
      "metadata": {
        "id": "RgOsRLFsjLO5"
      },
      "source": [
        "# Load in the MNIST dataset\n",
        "For repeadable experiments the random seed must be set so that the same psuedo-random numbers are used in the wieght initialization and the dataset split. This is done by the call: `torch.manual_seed()` and `np.random.seed()`.\n",
        "\n",
        "The MNIST dataset is loaded using torchvision by the call `torchvision.datasets.MNIST()`. The dataset is split into two disjoint sets for training and validation using the call `torch.utils.data.dataset.random_split()`, another common dataset splitter is scikit learns `sklearn.model_selection.train_test_split()`. In this instance, we are using 30% of the data for validation, 70% for training. The testing data is loaded by setting `torchvision.datasets.MNIST(...train=False...)`.\n",
        "\n",
        "There is also an option to transform the data, this generally improves generalizability of the network. This is done by defining the transforms in the `transforms.Compose()` call."
      ]
    },
    {
      "cell_type": "code",
      "execution_count": 3,
      "metadata": {
        "id": "0F-L9hHkjK45",
        "colab": {
          "base_uri": "https://localhost:8080/"
        },
        "outputId": "302c8c83-7b9e-4ffd-87be-a2045c2780bd"
      },
      "outputs": [
        {
          "output_type": "stream",
          "name": "stdout",
          "text": [
            "Downloading http://yann.lecun.com/exdb/mnist/train-images-idx3-ubyte.gz\n",
            "Downloading http://yann.lecun.com/exdb/mnist/train-images-idx3-ubyte.gz to ./data/MNIST/raw/train-images-idx3-ubyte.gz\n"
          ]
        },
        {
          "output_type": "stream",
          "name": "stderr",
          "text": [
            "100%|██████████| 9912422/9912422 [00:00<00:00, 116673292.99it/s]\n"
          ]
        },
        {
          "output_type": "stream",
          "name": "stdout",
          "text": [
            "Extracting ./data/MNIST/raw/train-images-idx3-ubyte.gz to ./data/MNIST/raw\n",
            "\n",
            "Downloading http://yann.lecun.com/exdb/mnist/train-labels-idx1-ubyte.gz\n",
            "Downloading http://yann.lecun.com/exdb/mnist/train-labels-idx1-ubyte.gz to ./data/MNIST/raw/train-labels-idx1-ubyte.gz\n"
          ]
        },
        {
          "output_type": "stream",
          "name": "stderr",
          "text": [
            "100%|██████████| 28881/28881 [00:00<00:00, 23696340.73it/s]\n"
          ]
        },
        {
          "output_type": "stream",
          "name": "stdout",
          "text": [
            "Extracting ./data/MNIST/raw/train-labels-idx1-ubyte.gz to ./data/MNIST/raw\n",
            "\n",
            "Downloading http://yann.lecun.com/exdb/mnist/t10k-images-idx3-ubyte.gz\n",
            "Downloading http://yann.lecun.com/exdb/mnist/t10k-images-idx3-ubyte.gz to ./data/MNIST/raw/t10k-images-idx3-ubyte.gz\n"
          ]
        },
        {
          "output_type": "stream",
          "name": "stderr",
          "text": [
            "100%|██████████| 1648877/1648877 [00:00<00:00, 32282402.62it/s]\n"
          ]
        },
        {
          "output_type": "stream",
          "name": "stdout",
          "text": [
            "Extracting ./data/MNIST/raw/t10k-images-idx3-ubyte.gz to ./data/MNIST/raw\n",
            "\n",
            "Downloading http://yann.lecun.com/exdb/mnist/t10k-labels-idx1-ubyte.gz\n",
            "Downloading http://yann.lecun.com/exdb/mnist/t10k-labels-idx1-ubyte.gz to ./data/MNIST/raw/t10k-labels-idx1-ubyte.gz\n"
          ]
        },
        {
          "output_type": "stream",
          "name": "stderr",
          "text": [
            "100%|██████████| 4542/4542 [00:00<00:00, 6644760.64it/s]\n"
          ]
        },
        {
          "output_type": "stream",
          "name": "stdout",
          "text": [
            "Extracting ./data/MNIST/raw/t10k-labels-idx1-ubyte.gz to ./data/MNIST/raw\n",
            "\n"
          ]
        }
      ],
      "source": [
        "# Set seed for repeatability\n",
        "seed_val = 0\n",
        "torch.manual_seed(seed_val)\n",
        "np.random.seed(seed_val)\n",
        "\n",
        "# Define the validation ratio to be used\n",
        "valid_ratio = 0.3\n",
        "\n",
        "# If transforming data to improve generalizability, uncomment and put below\n",
        "transform = torchvision.transforms.Compose([\n",
        "          torchvision.transforms.ToTensor(),\n",
        "          torchvision.transforms.Normalize((0.1307,), (0.3081,))])\n",
        "\n",
        "# Load in the datasets\n",
        "train_valid_dataset = torchvision.datasets.MNIST(root='./data', train=True, download=True, transform=transform)\n",
        "test_dataset = torchvision.datasets.MNIST(root='./data', train=False, download=True, transform=transform)\n",
        "\n",
        "# Number of images to use for training\n",
        "nb_train = int((1.0 - valid_ratio) * len(train_valid_dataset))\n",
        "# Number of images to use for validation\n",
        "nb_valid =  int(valid_ratio * len(train_valid_dataset))\n",
        "\n",
        "# Randomly split into training and validation data\n",
        "train_dataset, valid_dataset = torch.utils.data.dataset.random_split(train_valid_dataset, [nb_train, nb_valid])\n",
        "\n",
        "# Put into dataloader\n",
        "trainloader = torch.utils.data.DataLoader(train_dataset, batch_size=500, shuffle=True)\n",
        "validloader = torch.utils.data.DataLoader(valid_dataset, batch_size=500, shuffle=True)\n",
        "testloader = torch.utils.data.DataLoader(test_dataset, batch_size=500, shuffle=False)\n"
      ]
    },
    {
      "cell_type": "markdown",
      "metadata": {
        "id": "FF-0P-dilsVq"
      },
      "source": [
        "# Visualize the MNIST dataset\n",
        "Define a helper function to visualize the MNIST images.\n",
        "\n",
        "The first four images in the train loader are retrieved by the `iter(trainloader)` and `next(data_iter)` calls."
      ]
    },
    {
      "cell_type": "code",
      "execution_count": 4,
      "metadata": {
        "id": "jKxQdM7qlvZW",
        "colab": {
          "base_uri": "https://localhost:8080/",
          "height": 211
        },
        "outputId": "377532a9-e687-477f-e5e1-8e4d4c24cd6d"
      },
      "outputs": [
        {
          "output_type": "display_data",
          "data": {
            "text/plain": [
              "<Figure size 640x480 with 1 Axes>"
            ],
            "image/png": "[encoded data removed]"
          },
          "metadata": {}
        },
        {
          "output_type": "stream",
          "name": "stdout",
          "text": [
            "Ground Truth:      0     6     6     6\n"
          ]
        }
      ],
      "source": [
        "def imshow(img):\n",
        "    img = (img - torch.min(img))/torch.max(img - torch.min(img))\n",
        "    np_img = img.numpy()      # convert to numpy\n",
        "    plt.imshow(np.transpose(np_img, (1,2,0)))\n",
        "    plt.show()                # needed to print the plot\n",
        "\n",
        "# Get random training images\n",
        "data_iter = iter(trainloader)\n",
        "imgs, labels = next(data_iter)\n",
        "\n",
        "# Show images (that are currently tensors)\n",
        "imshow(torchvision.utils.make_grid(imgs[:4,]))\n",
        "print('Ground Truth: ', ' '.join('%5s' % labels[j].cpu().detach().numpy() for j in range(4)))\n",
        "\n"
      ]
    },
    {
      "cell_type": "markdown",
      "metadata": {
        "id": "ljbD9f4mDIAX"
      },
      "source": [
        "# Define Network\n",
        "This will be a fully connected net, there are many different ways to define a network. Some people use Module (base class for NNs), others use the Sequential container. Either way, you need to specify two main things:\n",
        "1. The network structure\n",
        "2. The forward function - this passes the data into the network.\n",
        "\n",
        "The MNIST data is 28x28 pixel images. The fully connected layer is specified as nn.Linear. The network structure typically consists of 3 main components:\n",
        "- Input layer: where the data first goes into the network. The size of this layer must be the same size as the data you are trying to feed into it.\n",
        "- Hidden Layers: there can be however many neurons in these layers as desired, additionally there can be however mady of these hidden layers you want. The input to the hidded layers must be the same size as the output of the previous layer.\n",
        "- Output layer: This will be where the classification occurs, in classification problems, the number of nuerons in the output layer must be equal to the number of classes. Additionally, the input size of this layer must be the same size as the output of the previous layer.\n",
        "\n",
        "The forward function is how the data passes through the network. This is where activation functions go.\n",
        "\n",
        "Link that may be useful in network definition, this describes all the containers, layers, activation functions, and loss functions:\n",
        "https://pytorch.org/docs/stable/nn.html\n"
      ]
    },
    {
      "cell_type": "markdown",
      "metadata": {
        "id": "09J7oJgD-RQD"
      },
      "source": [
        "#  <font color='red'> TO DO - YOUR CODE HERE </font>\n"
      ]
    },
    {
      "cell_type": "code",
      "execution_count": 14,
      "metadata": {
        "id": "_qRCeSrhHaBM"
      },
      "outputs": [],
      "source": [
        "\n",
        "class CNN(nn.Module):\n",
        "    def __init__(self):\n",
        "        super(CNN, self).__init__()\n",
        "\n",
        "        # First layer, use 16 output channels, kernel size of 5, followed by RELU and 2x2 maxpool\n",
        "        self.conv1 = nn.Sequential(\n",
        "          nn.Conv2d(1, 16, kernel_size=5, padding=2),\n",
        "          nn.ReLU(),\n",
        "          nn.MaxPool2d(kernel_size=2, stride=2, padding=0)\n",
        "          )\n",
        "\n",
        "        # Second layer,use 32 output channels, kernel size of 5, followed by RELU and 2x2 maxpool\n",
        "        self.conv2 = nn.Sequential(\n",
        "          nn.Conv2d(16, 32, kernel_size=5, padding=2),\n",
        "          nn.ReLU(),\n",
        "          nn.MaxPool2d(kernel_size=2, stride=2, padding=0)\n",
        "        )\n",
        "        # fully connected layer, output 10 classes\n",
        "        self.out = nn.Linear(1568, 10)\n",
        "\n",
        "    def forward(self, x):\n",
        "        x = self.conv1(x)\n",
        "        x = self.conv2(x)\n",
        "        # flatten the output of conv2 to (batch_size, 32 * 7 * 7)\n",
        "        x = x.view(x.size(0), -1)\n",
        "        output = self.out(x)\n",
        "        return F.log_softmax(output, dim=1)   # return x for visualization\n",
        "\n"
      ]
    },
    {
      "cell_type": "markdown",
      "metadata": {
        "id": "rP0MW1LFJsvD"
      },
      "source": [
        "# Compile and print the network structure"
      ]
    },
    {
      "cell_type": "code",
      "execution_count": 15,
      "metadata": {
        "id": "y9833lykJwgk",
        "colab": {
          "base_uri": "https://localhost:8080/"
        },
        "outputId": "9093479a-3109-430b-f83c-c3b081fe341b"
      },
      "outputs": [
        {
          "output_type": "stream",
          "name": "stdout",
          "text": [
            "Number of parameters = 28938\n"
          ]
        },
        {
          "output_type": "execute_result",
          "data": {
            "text/plain": [
              "CNN(\n",
              "  (conv1): Sequential(\n",
              "    (0): Conv2d(1, 16, kernel_size=(5, 5), stride=(1, 1), padding=(2, 2))\n",
              "    (1): ReLU()\n",
              "    (2): MaxPool2d(kernel_size=2, stride=2, padding=0, dilation=1, ceil_mode=False)\n",
              "  )\n",
              "  (conv2): Sequential(\n",
              "    (0): Conv2d(16, 32, kernel_size=(5, 5), stride=(1, 1), padding=(2, 2))\n",
              "    (1): ReLU()\n",
              "    (2): MaxPool2d(kernel_size=2, stride=2, padding=0, dilation=1, ceil_mode=False)\n",
              "  )\n",
              "  (out): Linear(in_features=1568, out_features=10, bias=True)\n",
              ")"
            ]
          },
          "metadata": {},
          "execution_count": 15
        }
      ],
      "source": [
        "net = CNN()\n",
        "# This is especially helpful for debugging purposes if you are getting errors\n",
        "#   in your network definition.\n",
        "# print(net)\n",
        "print('Number of parameters =', sum([p.numel() for p in net.parameters()]))\n",
        "\n",
        "# Send network to device\n",
        "net.to(device)\n"
      ]
    },
    {
      "cell_type": "markdown",
      "metadata": {
        "id": "cPocX-64KEKO"
      },
      "source": [
        "# Loss and optimizer definition\n",
        "Define the loss to be minimized during training and the optimizer for the network. For classification, a typical loss function is cross entropy. Typical optimizers are Adam and SGD.\n",
        "\n",
        "Within the optimizer call, you must specifiy what network you are going to be using it on, this is the net.parameters() variable. Additionally, specify an initial learning rate, this is the lr variable.\n",
        "\n",
        "Links for more information:\n",
        "- General information: https://pytorch.org/docs/stable/optim.html\n",
        "- Adam: https://pytorch.org/docs/stable/generated/torch.optim.Adam.html#torch.optim.Adam\n",
        "- SGD: https://pytorch.org/docs/stable/generated/torch.optim.SGD.html#torch.optim.SGD\n"
      ]
    },
    {
      "cell_type": "markdown",
      "metadata": {
        "id": "xOmWvpdIDl4x"
      },
      "source": [
        "#  <font color='red'> TO DO - YOUR CODE HERE </font>\n",
        "Use cross entropy as your loss function (loss_criterion)\n",
        "and define SGD as your optimization function (optimizer)"
      ]
    },
    {
      "cell_type": "code",
      "execution_count": 17,
      "metadata": {
        "id": "TpAZM4G6KkzH"
      },
      "outputs": [],
      "source": [
        "learning_rate = 0.01\n",
        "\n",
        "# TO DO - specify cross entropy loss, use SGD and specify learning rate and\n",
        "#   network parameters\n",
        "# Weight the cross entropy loss to balance the classes\n",
        "\n",
        "loss_criterion = torch.nn.CrossEntropyLoss()\n",
        "optimizer = torch.optim.SGD(net.parameters(), lr=learning_rate)\n",
        "\n"
      ]
    },
    {
      "cell_type": "code",
      "execution_count": 18,
      "metadata": {
        "id": "7Zme3dXAPYV7"
      },
      "outputs": [],
      "source": [
        "PATH = './mnist_CNN_net.pth'\n"
      ]
    },
    {
      "cell_type": "markdown",
      "metadata": {
        "id": "UY38pkWRLu-Q"
      },
      "source": [
        "# Training Loop\n",
        "\n",
        "#  <font color='red'> TO DO - YOUR CODE HERE </font>\n",
        "\n",
        "Within the training loop, code the four steps to complete the automatic differentiation:\n",
        "- Forward pass\n",
        "- Calculate loss\n",
        "- Send the loss backward thru the network\n",
        "- Use the optimizer to calculate the gradients and update weights"
      ]
    },
    {
      "cell_type": "code",
      "execution_count": 19,
      "metadata": {
        "id": "mlHzw5mhL7Ad"
      },
      "outputs": [],
      "source": [
        "def train_network(model, train_loader, val_loader, optimizer, criterion, max_epochs):\n",
        "    min_valid_loss = np.inf\n",
        "    val_loss = []\n",
        "    val_acc = []\n",
        "    for epoch in range(max_epochs):\n",
        "        train_loss = 0.0\n",
        "        # Training loop\n",
        "        for inputs, labels in train_loader:\n",
        "          # Transfer Data to device\n",
        "            inputs, labels = inputs.to(device), labels.to(device)\n",
        "\n",
        "            # Clear the gradients\n",
        "            optimizer.zero_grad()\n",
        "            outputs= model(inputs)\n",
        "            loss= criterion(outputs, labels)\n",
        "            loss.backward()\n",
        "            optimizer.step()\n",
        "\n",
        "            # TO DO: CODE HERE\n",
        "                              # Forward Pass\n",
        "                              # Find the Loss\n",
        "                              # Send Loss backward\n",
        "                              # Update Weights\n",
        "\n",
        "            # Calculate Loss\n",
        "            train_loss += loss.item()\n",
        "\n",
        "        valid_loss = 0.0\n",
        "        epoch_total = 0\n",
        "        epoch_correct = 0\n",
        "      # Validation loop - the network weights should not be adjusted\n",
        "        with torch.no_grad():\n",
        "            for inputs, labels in val_loader:\n",
        "                # Transfer Data to device\n",
        "                inputs, labels = inputs.to(device), labels.to(device)\n",
        "\n",
        "                # Forward Pass\n",
        "                outputs = model(inputs)\n",
        "                # Find the Loss\n",
        "                loss = criterion(outputs, labels)\n",
        "                # Calculate Loss\n",
        "                valid_loss += loss.item()\n",
        "                # Calculate Accuracy\n",
        "                _, predicted = torch.max(outputs.data, 1)\n",
        "                epoch_total += labels.size(0)\n",
        "                epoch_correct += (predicted == labels).sum().item()\n",
        "\n",
        "        val_loss.append(valid_loss/len(validloader))\n",
        "        val_acc.append(epoch_correct/epoch_total)\n",
        "        print(f'Epoch {epoch+1}, Training Loss: {train_loss / len(trainloader):.5f}, Validation Loss: {valid_loss / len(validloader):.5f}')\n",
        "\n",
        "        if min_valid_loss > valid_loss:\n",
        "            # print(f'Validation Loss Decreased({min_valid_loss:.6f}--->{valid_loss:.6f}) \\t Saving The Model')\n",
        "            min_valid_loss = valid_loss\n",
        "\n",
        "            # Saving State Dict\n",
        "            torch.save(model.state_dict(), PATH)\n",
        "\n",
        "    return val_loss, val_acc\n"
      ]
    },
    {
      "cell_type": "markdown",
      "metadata": {
        "id": "DpaCqgj-1VUI"
      },
      "source": [
        "# Define Testing function"
      ]
    },
    {
      "cell_type": "code",
      "execution_count": 20,
      "metadata": {
        "id": "YHXVplsD1aG3"
      },
      "outputs": [],
      "source": [
        "def test_network(model, test_loader):\n",
        "    total = 0\n",
        "    correct = 0\n",
        "    with torch.no_grad():\n",
        "        for inputs, labels in test_loader:\n",
        "            inputs, labels = inputs.to(device), labels.to(device)\n",
        "            outputs = model(inputs)\n",
        "            _, predicted = torch.max(outputs.data, 1)\n",
        "\n",
        "            total += labels.size(0)\n",
        "            correct += (predicted == labels).sum().item()\n",
        "\n",
        "    accuracy = 100*correct/total\n",
        "    return accuracy\n"
      ]
    },
    {
      "cell_type": "markdown",
      "metadata": {
        "id": "YM1ryulcQFf9"
      },
      "source": [
        "# Perform network training\n",
        "This is where the training loop is called, you must give the function:\n",
        "- nework/model\n",
        "- traning dataloader\n",
        "- validation dataloader\n",
        "- optimizer (defined above)\n",
        "- criterion / loss function (defined above)\n",
        "- maximum number of epochs to train the model for"
      ]
    },
    {
      "cell_type": "code",
      "execution_count": 21,
      "metadata": {
        "id": "fIv6R6R5QH4O",
        "colab": {
          "base_uri": "https://localhost:8080/"
        },
        "outputId": "816fcdcc-8d12-43ad-8491-cf09471f3fc5"
      },
      "outputs": [
        {
          "output_type": "stream",
          "name": "stdout",
          "text": [
            "Epoch 1, Training Loss: 1.66312, Validation Loss: 0.75120\n",
            "Epoch 2, Training Loss: 0.55860, Validation Loss: 0.52559\n",
            "Epoch 3, Training Loss: 0.37481, Validation Loss: 0.32695\n",
            "Epoch 4, Training Loss: 0.30195, Validation Loss: 0.28079\n",
            "Epoch 5, Training Loss: 0.26294, Validation Loss: 0.25054\n",
            "Epoch 6, Training Loss: 0.23611, Validation Loss: 0.22928\n",
            "Epoch 7, Training Loss: 0.21488, Validation Loss: 0.20752\n",
            "Epoch 8, Training Loss: 0.19619, Validation Loss: 0.19073\n",
            "Epoch 9, Training Loss: 0.18313, Validation Loss: 0.17516\n",
            "Epoch 10, Training Loss: 0.16826, Validation Loss: 0.16592\n"
          ]
        }
      ],
      "source": [
        "val_loss, val_acc = train_network(\n",
        "    net, trainloader, validloader,\n",
        "    optimizer=optimizer,\n",
        "    criterion=loss_criterion, max_epochs=10\n",
        ")\n"
      ]
    },
    {
      "cell_type": "markdown",
      "metadata": {
        "id": "7DeD6prZ8a1k"
      },
      "source": [
        "# Plot validation metrics"
      ]
    },
    {
      "cell_type": "code",
      "execution_count": 22,
      "metadata": {
        "id": "5gbYsf9i8d40",
        "colab": {
          "base_uri": "https://localhost:8080/",
          "height": 472
        },
        "outputId": "e9ad940b-a41a-48ce-9ad8-324c610d3a26"
      },
      "outputs": [
        {
          "output_type": "display_data",
          "data": {
            "text/plain": [
              "<Figure size 640x480 with 1 Axes>"
            ],
            "image/png": "[encoded data removed]"
          },
          "metadata": {}
        }
      ],
      "source": [
        "fig = plt.figure()\n",
        "plt.plot(val_loss, '-x', label='Validation Loss')\n",
        "plt.plot(val_acc, '-x', label='Validation Accuracy')\n",
        "\n",
        "plt.xlabel('Epoch Number')\n",
        "plt.gca().set_ylim(bottom=0)\n",
        "plt.ylabel('Accuracy')\n",
        "plt.title('Validation Metrics')\n",
        "plt.grid()\n",
        "plt.legend()\n",
        "plt.show()\n",
        "\n"
      ]
    },
    {
      "cell_type": "code",
      "execution_count": 23,
      "metadata": {
        "id": "LTEbChdk2ovh",
        "colab": {
          "base_uri": "https://localhost:8080/"
        },
        "outputId": "7231c6d0-9892-454f-8cba-18ed27b485cd"
      },
      "outputs": [
        {
          "output_type": "execute_result",
          "data": {
            "text/plain": [
              "<All keys matched successfully>"
            ]
          },
          "metadata": {},
          "execution_count": 23
        }
      ],
      "source": [
        "# Load saved net\n",
        "net.load_state_dict(torch.load(PATH))\n"
      ]
    },
    {
      "cell_type": "code",
      "execution_count": 24,
      "metadata": {
        "id": "FGKAl54q3K6m",
        "colab": {
          "base_uri": "https://localhost:8080/",
          "height": 191
        },
        "outputId": "153dea26-2d37-4ac8-f00b-85e03b5f3e1b"
      },
      "outputs": [
        {
          "output_type": "stream",
          "name": "stdout",
          "text": [
            "Testing Accuracy =  95.57\n"
          ]
        },
        {
          "output_type": "display_data",
          "data": {
            "text/plain": [
              "<Figure size 640x480 with 1 Axes>"
            ],
            "image/png": "[encoded data removed]"
          },
          "metadata": {}
        },
        {
          "output_type": "stream",
          "name": "stdout",
          "text": [
            "Truth:\t     7     2     1     0     4     1     4\n",
            "Predict:     7     2     1     0     4     1     4\n"
          ]
        }
      ],
      "source": [
        "net.eval()    # Put the model into evaluation mode\n",
        "\n",
        "acc = test_network(net, testloader)\n",
        "print('Testing Accuracy = ', acc)\n",
        "\n",
        "# Get random testing images\n",
        "data_iter = iter(testloader)\n",
        "imgs, labels = next(data_iter)\n",
        "labels = labels.cpu().detach().numpy()\n",
        "\n",
        "# Show images (that are currently tensors) and their predictions\n",
        "n_images = 7\n",
        "imshow(torchvision.utils.make_grid(imgs[:n_images,]))\n",
        "print('Truth:\\t', ' '.join('%5s' % labels[j] for j in range(n_images)))\n",
        "\n",
        "with torch.no_grad():\n",
        "    outputs = net(imgs[:n_images,].to(device))\n",
        "    _, predicted = torch.max(outputs, 1)\n",
        "\n",
        "predicted = predicted.cpu().detach().numpy()\n",
        "print('Predict:', ' '.join('%5s' % predicted[j] for j in range(n_images)))\n",
        "\n"
      ]
    }
  ],
  "metadata": {
    "accelerator": "GPU",
    "colab": {
      "provenance": []
    },
    "kernelspec": {
      "display_name": "Python 3 (ipykernel)",
      "language": "python",
      "name": "python3"
    },
    "language_info": {
      "codemirror_mode": {
        "name": "ipython",
        "version": 3
      },
      "file_extension": ".py",
      "mimetype": "text/x-python",
      "name": "python",
      "nbconvert_exporter": "python",
      "pygments_lexer": "ipython3",
      "version": "3.9.1"
    }
  },
  "nbformat": 4,
  "nbformat_minor": 0
}