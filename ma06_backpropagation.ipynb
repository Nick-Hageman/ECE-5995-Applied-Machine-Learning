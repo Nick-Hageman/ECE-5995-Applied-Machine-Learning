{
  "cells": [
    {
      "cell_type": "code",
      "execution_count": 1,
      "metadata": {
        "id": "FEfOcU-F2KcG"
      },
      "outputs": [],
      "source": [
        "\n",
        "import numpy as np\n",
        "import scipy as sc\n",
        "from scipy.stats import multivariate_normal\n",
        "from scipy.stats import norm\n",
        "from scipy.stats import uniform\n",
        "\n",
        "import pandas as pd\n",
        "import matplotlib.pyplot as plt\n",
        "from matplotlib import cm\n",
        "\n",
        "from sklearn.datasets import make_circles\n",
        "from sklearn.datasets import make_blobs\n",
        "\n",
        "plt.rcParams.update({'font.size': 16})\n",
        "plt.rcParams['figure.figsize'] = [12, 6]\n",
        "\n",
        "np.random.seed()"
      ]
    },
    {
      "cell_type": "markdown",
      "metadata": {
        "id": "QfjAZZdioxsR"
      },
      "source": [
        "# Non-linearity used at the layers\n",
        "\n",
        "\n",
        "*   Define the non-linearity for forward propagation\n",
        "*   <font color='red'>Define the gradient of the non-linearities for backward propagation</font>\n",
        "\n"
      ]
    },
    {
      "cell_type": "code",
      "execution_count": 2,
      "metadata": {
        "id": "pKi4m53Y2KcL"
      },
      "outputs": [],
      "source": [
        "class differentiableQuadraticLayer:\n",
        "    def __init__(self):\n",
        "        self.x = None\n",
        "\n",
        "    def forward(self,x):\n",
        "        self.x = x\n",
        "        return x**2\n",
        "#        return np.tanh(x)\n",
        "\n",
        "    def backward(self,dy):\n",
        "\n",
        "        # YOUR CODE BELOW\n",
        "\n",
        "        diff = 2*self.x\n",
        "\n",
        "        # DELETING THE SAVED X\n",
        "        self.x = None\n",
        "        return np.multiply(dy,diff)\n",
        "\n",
        ""
      ]
    },
    {
      "cell_type": "markdown",
      "metadata": {
        "id": "HFn-368qTFD9"
      },
      "source": [
        "# Linear Layer\n",
        "\n",
        "\n",
        "*   Define the forward propagation\n",
        "*   <font color='red'>Define the gradient for backward propagation</font>\n"
      ]
    },
    {
      "cell_type": "code",
      "execution_count": 36,
      "metadata": {
        "id": "hzxTpdKqTFD-"
      },
      "outputs": [],
      "source": [
        "class differentiableLinearLayer:\n",
        "    def __init__(self):\n",
        "        self.w = np.random.rand(1)[0]*0.001\n",
        "        self.b = 0\n",
        "        self.wgrad = None\n",
        "        self.bgrad = None\n",
        "        self.x = None\n",
        "\n",
        "\n",
        "    def forward(self,x):\n",
        "        self.x = x\n",
        "        return self.w*x + self.b\n",
        "\n",
        "\n",
        "    def backward(self,dy):\n",
        "        diff = self.w*dy\n",
        "\n",
        "        # YOUR CODE BELOW\n",
        "        self.wgrad = dy @ self.x.T\n",
        "        self.bgrad = dy @ np.ones((dy.shape[0],1))\n",
        "\n",
        "        self.x = diff\n",
        "\n",
        "        return diff"
      ]
    },
    {
      "cell_type": "markdown",
      "metadata": {
        "id": "nH3bCtA62KcL"
      },
      "source": [
        "## Define the losses and their derivatives\n",
        "\n",
        "\n",
        "*   Define the loss functions for loss evaluation\n",
        "*   <font color='red'> Define the gradient of the loss functions for backpropagation </font>\n",
        "\n"
      ]
    },
    {
      "cell_type": "code",
      "execution_count": 37,
      "metadata": {
        "id": "oM4X_NkxTFD_"
      },
      "outputs": [],
      "source": [
        "class differentiablemse:\n",
        "    def __init__(self):\n",
        "        self.x = None\n",
        "        self.y = None\n",
        "\n",
        "    def forward(self,x,y):\n",
        "        err = np.power(x-y,2)\n",
        "        cost = np.sum(err)\n",
        "        self.x=x\n",
        "        self.y=y\n",
        "        return cost\n",
        "\n",
        "    def backward(self):\n",
        "\n",
        "        #YOUR CODE BELOW\n",
        "        diff = 2*(self.x - self.y)\n",
        "        self.x = None\n",
        "        self.y = None\n",
        "        return diff\n",
        ""
      ]
    },
    {
      "cell_type": "markdown",
      "metadata": {
        "id": "KnYAcNHD2KcM"
      },
      "source": [
        "### Network\n",
        "#### <font color=red> MODIFY THE CODE BELOW </font>\n"
      ]
    },
    {
      "cell_type": "code",
      "execution_count": 46,
      "metadata": {
        "id": "YX1cVU_D2KcM"
      },
      "outputs": [],
      "source": [
        "class network:\n",
        "    def __init__(self):\n",
        "\n",
        "        self.layer = []\n",
        "        self.layer.append(differentiableLinearLayer())\n",
        "        self.layer.append(differentiableQuadraticLayer())\n",
        "\n",
        "    def forward(self,x):\n",
        "        # YOUR CODE BELOW\n",
        "        #linear -> non-linear\n",
        "        return self.layer[1].forward(self.layer[0].forward(x))\n",
        "\n",
        "    def backward(self,dy):\n",
        "        # YOUR CODE BELOW\n",
        "        #non-linear -> linear\n",
        "        return self.layer[0].backward(self.layer[1].backward(dy))\n",
        "\n",
        "    def update(self, learning_rate):\n",
        "        # YOUR CODE BELOW\n",
        "        self.layer[0].w = self.layer[0].w - self.layer[0].wgrad * learning_rate\n",
        "        self.layer[0].b = self.layer[0].b - self.layer[0].bgrad * learning_rate\n",
        "\n",
        "        # Updating the parameters according to algorithm\n",
        "\n",
        ""
      ]
    },
    {
      "cell_type": "markdown",
      "metadata": {
        "id": "w_3KHaAB2KcM"
      },
      "source": [
        "## Steepest descent optimization scheme"
      ]
    },
    {
      "cell_type": "code",
      "execution_count": 47,
      "metadata": {
        "id": "FWdoEMM12KcN"
      },
      "outputs": [],
      "source": [
        "def optimize(nn,x,y,loss,num_iterations,learning_rate):\n",
        "    for i in range(0, num_iterations):\n",
        "\n",
        "        # Forward propagation.\n",
        "        ypred = nn.forward(x)\n",
        "\n",
        "        # Cost function.\n",
        "        d = loss.forward(ypred, y)\n",
        "\n",
        "        # Backpropagation.\n",
        "        diffLoss = loss.backward()\n",
        "        nn.backward(diffLoss)\n",
        "        nn.update(learning_rate)\n",
        "\n",
        "        # Print the cost every 1000 iterations\n",
        "        if i % 500 == 0:\n",
        "            print (\"Cost after iteration % i: % f\" % (i, d))"
      ]
    },
    {
      "cell_type": "markdown",
      "metadata": {
        "id": "OKdUCXCm02BX"
      },
      "source": [
        "# <font color=blue > Network training </font>"
      ]
    },
    {
      "cell_type": "code",
      "execution_count": 48,
      "metadata": {
        "colab": {
          "base_uri": "https://localhost:8080/"
        },
        "id": "O4Obd67RTFED",
        "outputId": "3b8d390d-fe72-453c-b7e9-298da16f9699"
      },
      "outputs": [
        {
          "output_type": "execute_result",
          "data": {
            "text/plain": [
              "0.8022119721836717"
            ]
          },
          "metadata": {},
          "execution_count": 48
        }
      ],
      "source": [
        "np.random.randn(1)[0]"
      ]
    },
    {
      "cell_type": "code",
      "execution_count": 49,
      "metadata": {
        "colab": {
          "base_uri": "https://localhost:8080/",
          "height": 723
        },
        "id": "bHDQmgIy2KcN",
        "outputId": "ed411ffe-12d7-4c26-f0bd-b50b6eac73d7"
      },
      "outputs": [
        {
          "output_type": "stream",
          "name": "stdout",
          "text": [
            "Cost after iteration  0:  2928.661197\n",
            "Cost after iteration  500:  0.000000\n",
            "Cost after iteration  1000:  0.000000\n",
            "Cost after iteration  1500:  0.000000\n",
            "Cost after iteration  2000:  0.000000\n",
            "Cost after iteration  2500:  0.000000\n",
            "Cost after iteration  3000:  0.000000\n",
            "Cost after iteration  3500:  0.000000\n",
            "Cost after iteration  4000:  0.000000\n",
            "Cost after iteration  4500:  0.000000\n"
          ]
        },
        {
          "output_type": "execute_result",
          "data": {
            "text/plain": [
              "[<matplotlib.lines.Line2D at 0x7b3b650a5c30>]"
            ]
          },
          "metadata": {},
          "execution_count": 49
        },
        {
          "output_type": "display_data",
          "data": {
            "text/plain": [
              "<Figure size 1200x600 with 1 Axes>"
            ],
            "image/png": "[encoded data removed]"
          },
          "metadata": {}
        }
      ],
      "source": [
        "x = np.linspace(-np.pi,np.pi,20)\n",
        "a = np.random.randn(1)[0]\n",
        "b = np.random.randn(1)[0]\n",
        "\n",
        "y = (a*x+b)**2\n",
        "plt.plot(x,y)\n",
        "plt.plot(x,y,'*')\n",
        "\n",
        "nn = network()\n",
        "loss = differentiablemse()\n",
        "\n",
        "optimize(nn,x,y,loss,5000,.0001)\n",
        "plt.plot(x,nn.forward(x),linestyle='dotted',linewidth=3)"
      ]
    }
  ],
  "metadata": {
    "anaconda-cloud": {},
    "colab": {
      "provenance": []
    },
    "kernelspec": {
      "display_name": "Python 3 (ipykernel)",
      "language": "python",
      "name": "python3"
    },
    "language_info": {
      "codemirror_mode": {
        "name": "ipython",
        "version": 3
      },
      "file_extension": ".py",
      "mimetype": "text/x-python",
      "name": "python",
      "nbconvert_exporter": "python",
      "pygments_lexer": "ipython3",
      "version": "3.9.1"
    }
  },
  "nbformat": 4,
  "nbformat_minor": 0
}